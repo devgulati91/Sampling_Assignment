{
  "nbformat": 4,
  "nbformat_minor": 0,
  "metadata": {
    "colab": {
      "provenance": []
    },
    "kernelspec": {
      "name": "python3",
      "display_name": "Python 3"
    },
    "language_info": {
      "name": "python"
    }
  },
  "cells": [
    {
      "cell_type": "code",
      "execution_count": 30,
      "metadata": {
        "id": "xdtF62phYCRW"
      },
      "outputs": [],
      "source": [
        "#importing dataset\n",
        "import numpy as np\n",
        "import pandas as pd\n",
        "df = pd.read_csv('https://raw.githubusercontent.com/AnjulaMehto/Sampling_Assignment/main/Creditcard_data.csv')"
      ]
    },
    {
      "cell_type": "code",
      "source": [
        "#defining sampling techniques\n",
        "from imblearn.under_sampling import RandomUnderSampler\n",
        "from imblearn.under_sampling import TomekLinks\n",
        "from imblearn.under_sampling import  NearMiss\n",
        "from imblearn.over_sampling import RandomOverSampler\n",
        "from imblearn.over_sampling import SMOTE\n",
        "sample1 = RandomUnderSampler(random_state=42)\n",
        "sample2 = RandomOverSampler(random_state=42)\n",
        "sample3 = SMOTE(sampling_strategy='minority', random_state=42)\n",
        "sample4 = TomekLinks(sampling_strategy='majority')#we’ll use ratio='majority' to resample the majority class.\n",
        "sample5 = NearMiss(version=3, n_neighbors=3)\n"
      ],
      "metadata": {
        "id": "M1XpVZWbaDEy"
      },
      "execution_count": 31,
      "outputs": []
    },
    {
      "cell_type": "code",
      "source": [
        "#defining models\n",
        "from sklearn.naive_bayes import GaussianNB\n",
        "from sklearn.tree import DecisionTreeClassifier\n",
        "from sklearn.ensemble import RandomForestClassifier\n",
        "from sklearn.svm import SVC  \n",
        "from sklearn.ensemble import ExtraTreesClassifier\n",
        "model1 = GaussianNB()\n",
        "model2 = SVC(kernel='linear')\n",
        "model3 = DecisionTreeClassifier(random_state=42)\n",
        "model4 = RandomForestClassifier(random_state=42)\n",
        "model5 = ExtraTreesClassifier(random_state=42)\n",
        "\n"
      ],
      "metadata": {
        "id": "lEZniBcjaDB_"
      },
      "execution_count": 32,
      "outputs": []
    },
    {
      "cell_type": "code",
      "source": [
        "# Splitting the dataset into features and target\n",
        "X = df.drop('Class', axis=1)\n",
        "y = df['Class']\n",
        "\n",
        "from sklearn.model_selection import train_test_split\n",
        "# Splitting the data into training and testing \n",
        "X_train, X_test, y_train, y_test = train_test_split(X, y, test_size=0.2, random_state=42)"
      ],
      "metadata": {
        "id": "qdbg3j-aaC8X"
      },
      "execution_count": 33,
      "outputs": []
    },
    {
      "cell_type": "code",
      "source": [
        "samples = {\n",
        "    'Sampling1': sample1,\n",
        "    'Sampling2': sample2,\n",
        "    'Sampling3': sample3,\n",
        "    'Sampling4': sample4,\n",
        "    'Sampling5': sample5,\n",
        "}\n",
        "models = {\n",
        "    'NaiveBayes  ': model1,\n",
        "    'SVM         ': model2,\n",
        "    'DecicionTree': model3,\n",
        "    'RandomForest': model4,\n",
        "    'ExtraTree   ': model5,\n",
        "}"
      ],
      "metadata": {
        "id": "_Fwtaupsf8Bb"
      },
      "execution_count": 39,
      "outputs": []
    },
    {
      "cell_type": "code",
      "source": [
        "z = 1.96  # for 95% confidence interval\n",
        "m = 0.05  # margin of error\n",
        "n1 = int(np.ceil((z**2 * 0.05 * 0.5 / (m**2))))\n",
        "n2 = int(np.ceil((z**2 * 0.05 * (1-0.05)) / (m**2)))\n",
        "n3 = int(np.ceil((z**2 * 0.05 * (1-0.05)) / (m**2)))\n",
        "n4 = int(np.ceil((z**2 * 0.05 * (1-0.05)) / (m**2)))\n",
        "n5 = int(np.ceil((z**2 * 0.05 * (1-0.05)) / (m**2)))"
      ],
      "metadata": {
        "id": "8j96QCeOg2d-"
      },
      "execution_count": 35,
      "outputs": []
    },
    {
      "cell_type": "code",
      "source": [
        "# Evaluating accuracy of all models on each sampling technique\n",
        "from sklearn.metrics import accuracy_score\n",
        "result = {}\n",
        "for sampler_name, sampler in samples.items():\n",
        "    if sampler_name == 'Sampling1':\n",
        "        n = n1\n",
        "    elif sampler_name == 'Sampling2':\n",
        "        n = n2\n",
        "    elif sampler_name == 'Sampling3':\n",
        "        n = n3\n",
        "    elif sampler_name == 'Sampling4':\n",
        "        n = n4\n",
        "    else:\n",
        "        n = n5\n",
        "\n",
        "    # Undersample or oversample the training data\n",
        "    X_resampled, y_resampled = sampler.fit_resample(X_train, y_train)\n",
        "    \n",
        "    # Limit the resampled data to the sample size\n",
        "    if len(X_resampled) > n:\n",
        "        X_resampled = X_resampled[:n]\n",
        "        y_resampled = y_resampled[:n]\n",
        "    \n",
        "    for model_name, model in models.items():\n",
        "        # Train the model on the resampled data\n",
        "        model.fit(X_resampled, y_resampled)\n",
        "        \n",
        "        # Make predictions on the test data\n",
        "        y_pred = model.predict(X_test)\n",
        "        \n",
        "        # Calculate the accuracy score\n",
        "        accuracy = accuracy_score(y_test, y_pred)\n",
        "        if model_name in result:\n",
        "            result[model_name][sampler_name] = accuracy\n",
        "        else:\n",
        "            result[model_name] = {sampler_name: accuracy}\n",
        "            \n"
      ],
      "metadata": {
        "id": "FK-fuO1WaC5g"
      },
      "execution_count": 40,
      "outputs": []
    },
    {
      "cell_type": "code",
      "source": [
        "# Print the results\n",
        "print('                  Sampling1   Sampling2   Sampling3   Sampling4   Sampling5')\n",
        "for model_name, model_results in result.items():\n",
        "    print(model_name, end='')\n",
        "    for sampler_name in samplers.keys():\n",
        "        if sampler_name in model_results:\n",
        "            print(f'    {model_results[sampler_name]:.4f}   ', end='')\n",
        "        else:\n",
        "            print('              ', end='')\n",
        "    print() "
      ],
      "metadata": {
        "colab": {
          "base_uri": "https://localhost:8080/"
        },
        "id": "4PJrqmUjaC2r",
        "outputId": "edeb7761-072d-4532-d961-1e5cf52c32c2"
      },
      "execution_count": 41,
      "outputs": [
        {
          "output_type": "stream",
          "name": "stdout",
          "text": [
            "                  Sampling1   Sampling2   Sampling3   Sampling4   Sampling5\n",
            "NaiveBayes      0.6968       0.9935       0.9935       0.9935       0.4839   \n",
            "SVM             0.6258       0.9871       0.9871       0.9871       0.3613   \n",
            "DecicionTree    0.5742       0.9806       0.9806       0.9806       0.6968   \n",
            "RandomForest    0.7097       0.9935       0.9935       0.9935       0.7677   \n",
            "ExtraTree       0.8065       0.9935       0.9935       0.9935       0.6516   \n"
          ]
        }
      ]
    },
    {
      "cell_type": "code",
      "source": [],
      "metadata": {
        "id": "4jadxFdKaCzX"
      },
      "execution_count": null,
      "outputs": []
    },
    {
      "cell_type": "code",
      "source": [],
      "metadata": {
        "id": "fCaoq_7caCwA"
      },
      "execution_count": null,
      "outputs": []
    }
  ]
}